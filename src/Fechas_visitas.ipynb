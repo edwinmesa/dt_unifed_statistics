{
  "cells": [
    {
      "cell_type": "markdown",
      "metadata": {
        "id": "yoZjewe-gctR"
      },
      "source": [
        "## Cross Join Pandas, Datos de las visitas cruzadas con las fechas programadas de visita"
      ]
    },
    {
      "cell_type": "markdown",
      "metadata": {
        "id": "-w3rnC87Cc2M"
      },
      "source": [
        "### Carga de los archivos"
      ]
    },
    {
      "cell_type": "code",
      "execution_count": 275,
      "metadata": {
        "id": "7mEotVODkGRx"
      },
      "outputs": [
        {
          "data": {
            "text/html": [
              "<div>\n",
              "<style scoped>\n",
              "    .dataframe tbody tr th:only-of-type {\n",
              "        vertical-align: middle;\n",
              "    }\n",
              "\n",
              "    .dataframe tbody tr th {\n",
              "        vertical-align: top;\n",
              "    }\n",
              "\n",
              "    .dataframe thead th {\n",
              "        text-align: right;\n",
              "    }\n",
              "</style>\n",
              "<table border=\"1\" class=\"dataframe\">\n",
              "  <thead>\n",
              "    <tr style=\"text-align: right;\">\n",
              "      <th></th>\n",
              "      <th>FECHA</th>\n",
              "      <th>COD_DIA VISITA</th>\n",
              "      <th>DIA VISITA</th>\n",
              "      <th>COD SEMANAL</th>\n",
              "      <th>SEMANAL</th>\n",
              "      <th>COD QUINCENAL</th>\n",
              "      <th>QUINCENAL</th>\n",
              "      <th>COD MENSUAL</th>\n",
              "      <th>MENSUAL</th>\n",
              "    </tr>\n",
              "  </thead>\n",
              "  <tbody>\n",
              "    <tr>\n",
              "      <th>0</th>\n",
              "      <td>01/01/2023</td>\n",
              "      <td>1</td>\n",
              "      <td>Domingo</td>\n",
              "      <td>1</td>\n",
              "      <td>Semanal</td>\n",
              "      <td>2</td>\n",
              "      <td>Quincena 1 y 3</td>\n",
              "      <td>4</td>\n",
              "      <td>Mensual Semana 1</td>\n",
              "    </tr>\n",
              "    <tr>\n",
              "      <th>1</th>\n",
              "      <td>02/01/2023</td>\n",
              "      <td>2</td>\n",
              "      <td>Lunes</td>\n",
              "      <td>1</td>\n",
              "      <td>Semanal</td>\n",
              "      <td>3</td>\n",
              "      <td>Quincena 2 y 4</td>\n",
              "      <td>5</td>\n",
              "      <td>Mensual Semana 2</td>\n",
              "    </tr>\n",
              "    <tr>\n",
              "      <th>2</th>\n",
              "      <td>03/01/2023</td>\n",
              "      <td>3</td>\n",
              "      <td>Martes</td>\n",
              "      <td>1</td>\n",
              "      <td>Semanal</td>\n",
              "      <td>3</td>\n",
              "      <td>Quincena 2 y 4</td>\n",
              "      <td>5</td>\n",
              "      <td>Mensual Semana 2</td>\n",
              "    </tr>\n",
              "  </tbody>\n",
              "</table>\n",
              "</div>"
            ],
            "text/plain": [
              "        FECHA  COD_DIA VISITA DIA VISITA  COD SEMANAL  SEMANAL  COD QUINCENAL  \\\n",
              "0  01/01/2023               1    Domingo            1  Semanal              2   \n",
              "1  02/01/2023               2      Lunes            1  Semanal              3   \n",
              "2  03/01/2023               3     Martes            1  Semanal              3   \n",
              "\n",
              "       QUINCENAL   COD MENSUAL           MENSUAL  \n",
              "0  Quincena 1 y 3            4  Mensual Semana 1  \n",
              "1  Quincena 2 y 4            5  Mensual Semana 2  \n",
              "2  Quincena 2 y 4            5  Mensual Semana 2  "
            ]
          },
          "execution_count": 275,
          "metadata": {},
          "output_type": "execute_result"
        }
      ],
      "source": [
        "import pandas as pd\n",
        "\n",
        "import warnings\n",
        "warnings.simplefilter(action='ignore', category=FutureWarning),\n",
        "# Abrir el archivo con la informacion de las rutas ya hechas, CSV con pandas\n",
        "# with open('/home/pydev/workflow/dt_unifed_statistics/data/Calendario_Pimovil.csv', 'r', encoding='utf-8', errors='ignore') as archivo:\n",
        "#     df_ruta_visitas_vendedor_Original = pd.read_csv(archivo)\n",
        "\n",
        "# Abrir el archivo con las informacion de las fechas asignadas dado, el dia asignado y la frecuencia\n",
        "df_calendario_Pimovil_Original = pd.read_csv('/home/pydev/workflow/dt_unifed_statistics/data/Calendario_Pimovil.csv')\n",
        "# df_calendario_Pimovil_Original = df_calendario_Pimovil_Original.to_string()\n",
        "# Para exportarlo como un archivo Excel, (solo es para poder visualizarlo en excel online mas facil)\n",
        "#df_ruta_visitas_vendedor.to_excel('/content/data_ruta_visitas_vendedor.xlsx', index=False)\n",
        "#df_calendario_Pimovil.to_excel('/content/df_calendario_Pimovil.xlsx', index=False)\n",
        "df_calendario_Pimovil_Original.head(3)"
      ]
    },
    {
      "cell_type": "code",
      "execution_count": 276,
      "metadata": {
        "colab": {
          "base_uri": "https://localhost:8080/"
        },
        "id": "5lyNvpyJjeV_",
        "outputId": "3c83de56-51b8-4fbc-e827-a7386bde4d99"
      },
      "outputs": [],
      "source": [
        "# # Se escogen solo las columnas que son de interes para las rutas\n",
        "# nombres_rutas = [\"Cod_Cliente\",\"Inicio_Visita\", \"CRIT_CLIENTE_DIA_VISITA\", \"CRIT_CLIENTE_RUT_FREC\"]\n",
        "\n",
        "# df_ruta_visitas_vendedor = df_ruta_visitas_vendedor_Original[nombres_rutas]\n",
        "# print(df_ruta_visitas_vendedor.dtypes)\n",
        "# df_ruta_visitas_vendedor.head(5)"
      ]
    },
    {
      "cell_type": "code",
      "execution_count": 277,
      "metadata": {
        "colab": {
          "base_uri": "https://localhost:8080/"
        },
        "id": "Gi77dWsgQeHe",
        "outputId": "8e2cc763-e28c-4195-b74a-8fe98a79f6ef"
      },
      "outputs": [
        {
          "data": {
            "text/html": [
              "<div>\n",
              "<style scoped>\n",
              "    .dataframe tbody tr th:only-of-type {\n",
              "        vertical-align: middle;\n",
              "    }\n",
              "\n",
              "    .dataframe tbody tr th {\n",
              "        vertical-align: top;\n",
              "    }\n",
              "\n",
              "    .dataframe thead th {\n",
              "        text-align: right;\n",
              "    }\n",
              "</style>\n",
              "<table border=\"1\" class=\"dataframe\">\n",
              "  <thead>\n",
              "    <tr style=\"text-align: right;\">\n",
              "      <th></th>\n",
              "      <th>FECHA</th>\n",
              "      <th>COD_DIA VISITA</th>\n",
              "      <th>COD SEMANAL</th>\n",
              "      <th>COD QUINCENAL</th>\n",
              "      <th>COD MENSUAL</th>\n",
              "    </tr>\n",
              "  </thead>\n",
              "  <tbody>\n",
              "    <tr>\n",
              "      <th>0</th>\n",
              "      <td>01/01/2023</td>\n",
              "      <td>1</td>\n",
              "      <td>1</td>\n",
              "      <td>2</td>\n",
              "      <td>4</td>\n",
              "    </tr>\n",
              "    <tr>\n",
              "      <th>1</th>\n",
              "      <td>02/01/2023</td>\n",
              "      <td>2</td>\n",
              "      <td>1</td>\n",
              "      <td>3</td>\n",
              "      <td>5</td>\n",
              "    </tr>\n",
              "    <tr>\n",
              "      <th>2</th>\n",
              "      <td>03/01/2023</td>\n",
              "      <td>3</td>\n",
              "      <td>1</td>\n",
              "      <td>3</td>\n",
              "      <td>5</td>\n",
              "    </tr>\n",
              "    <tr>\n",
              "      <th>3</th>\n",
              "      <td>04/01/2023</td>\n",
              "      <td>4</td>\n",
              "      <td>1</td>\n",
              "      <td>3</td>\n",
              "      <td>5</td>\n",
              "    </tr>\n",
              "    <tr>\n",
              "      <th>4</th>\n",
              "      <td>05/01/2023</td>\n",
              "      <td>5</td>\n",
              "      <td>1</td>\n",
              "      <td>3</td>\n",
              "      <td>5</td>\n",
              "    </tr>\n",
              "  </tbody>\n",
              "</table>\n",
              "</div>"
            ],
            "text/plain": [
              "        FECHA  COD_DIA VISITA  COD SEMANAL  COD QUINCENAL  COD MENSUAL\n",
              "0  01/01/2023               1            1              2            4\n",
              "1  02/01/2023               2            1              3            5\n",
              "2  03/01/2023               3            1              3            5\n",
              "3  04/01/2023               4            1              3            5\n",
              "4  05/01/2023               5            1              3            5"
            ]
          },
          "execution_count": 277,
          "metadata": {},
          "output_type": "execute_result"
        }
      ],
      "source": [
        "# Se escogen solo las columnas que son de interes, solo los codigos el resto es redundante\n",
        "nombres_Pimovil = [\"FECHA\",\"COD_DIA VISITA\", \"COD SEMANAL\", \"COD QUINCENAL\", \"COD MENSUAL\"]\n",
        "\n",
        "# df_calendario_Pimovil = df_calendario_Pimovil_Original[nombres_Pimovil]\n",
        "df_calendario_Pimovil = df_calendario_Pimovil_Original.iloc[:, [0, 1, 3, 5, 7]]\n",
        "\n",
        "#print(df_calendario_Pimovil.dtypes)\n",
        "df_calendario_Pimovil.head(5)"
      ]
    },
    {
      "cell_type": "code",
      "execution_count": 278,
      "metadata": {
        "colab": {
          "base_uri": "https://localhost:8080/"
        },
        "id": "-UdzftJbYcZI",
        "outputId": "076001a5-b0a0-4f6d-9b9f-98fcddbace09"
      },
      "outputs": [
        {
          "data": {
            "text/html": [
              "<div>\n",
              "<style scoped>\n",
              "    .dataframe tbody tr th:only-of-type {\n",
              "        vertical-align: middle;\n",
              "    }\n",
              "\n",
              "    .dataframe tbody tr th {\n",
              "        vertical-align: top;\n",
              "    }\n",
              "\n",
              "    .dataframe thead th {\n",
              "        text-align: right;\n",
              "    }\n",
              "</style>\n",
              "<table border=\"1\" class=\"dataframe\">\n",
              "  <thead>\n",
              "    <tr style=\"text-align: right;\">\n",
              "      <th></th>\n",
              "      <th>FECHA</th>\n",
              "      <th>COD_DIA VISITA</th>\n",
              "      <th>DIA VISITA</th>\n",
              "      <th>COD SEMANAL</th>\n",
              "      <th>SEMANAL</th>\n",
              "      <th>COD QUINCENAL</th>\n",
              "      <th>QUINCENAL</th>\n",
              "      <th>COD MENSUAL</th>\n",
              "      <th>MENSUAL</th>\n",
              "    </tr>\n",
              "  </thead>\n",
              "  <tbody>\n",
              "    <tr>\n",
              "      <th>0</th>\n",
              "      <td>01/01/2023</td>\n",
              "      <td>001</td>\n",
              "      <td>Domingo</td>\n",
              "      <td>001</td>\n",
              "      <td>Semanal</td>\n",
              "      <td>002</td>\n",
              "      <td>Quincena 1 y 3</td>\n",
              "      <td>004</td>\n",
              "      <td>Mensual Semana 1</td>\n",
              "    </tr>\n",
              "    <tr>\n",
              "      <th>1</th>\n",
              "      <td>02/01/2023</td>\n",
              "      <td>002</td>\n",
              "      <td>Lunes</td>\n",
              "      <td>001</td>\n",
              "      <td>Semanal</td>\n",
              "      <td>003</td>\n",
              "      <td>Quincena 2 y 4</td>\n",
              "      <td>005</td>\n",
              "      <td>Mensual Semana 2</td>\n",
              "    </tr>\n",
              "    <tr>\n",
              "      <th>2</th>\n",
              "      <td>03/01/2023</td>\n",
              "      <td>003</td>\n",
              "      <td>Martes</td>\n",
              "      <td>001</td>\n",
              "      <td>Semanal</td>\n",
              "      <td>003</td>\n",
              "      <td>Quincena 2 y 4</td>\n",
              "      <td>005</td>\n",
              "      <td>Mensual Semana 2</td>\n",
              "    </tr>\n",
              "    <tr>\n",
              "      <th>3</th>\n",
              "      <td>04/01/2023</td>\n",
              "      <td>004</td>\n",
              "      <td>Miercoles</td>\n",
              "      <td>001</td>\n",
              "      <td>Semanal</td>\n",
              "      <td>003</td>\n",
              "      <td>Quincena 2 y 4</td>\n",
              "      <td>005</td>\n",
              "      <td>Mensual Semana 2</td>\n",
              "    </tr>\n",
              "    <tr>\n",
              "      <th>4</th>\n",
              "      <td>05/01/2023</td>\n",
              "      <td>005</td>\n",
              "      <td>Jueves</td>\n",
              "      <td>001</td>\n",
              "      <td>Semanal</td>\n",
              "      <td>003</td>\n",
              "      <td>Quincena 2 y 4</td>\n",
              "      <td>005</td>\n",
              "      <td>Mensual Semana 2</td>\n",
              "    </tr>\n",
              "  </tbody>\n",
              "</table>\n",
              "</div>"
            ],
            "text/plain": [
              "        FECHA COD_DIA VISITA DIA VISITA COD SEMANAL  SEMANAL COD QUINCENAL  \\\n",
              "0  01/01/2023            001    Domingo         001  Semanal           002   \n",
              "1  02/01/2023            002      Lunes         001  Semanal           003   \n",
              "2  03/01/2023            003     Martes         001  Semanal           003   \n",
              "3  04/01/2023            004  Miercoles         001  Semanal           003   \n",
              "4  05/01/2023            005     Jueves         001  Semanal           003   \n",
              "\n",
              "       QUINCENAL  COD MENSUAL           MENSUAL  \n",
              "0  Quincena 1 y 3         004  Mensual Semana 1  \n",
              "1  Quincena 2 y 4         005  Mensual Semana 2  \n",
              "2  Quincena 2 y 4         005  Mensual Semana 2  \n",
              "3  Quincena 2 y 4         005  Mensual Semana 2  \n",
              "4  Quincena 2 y 4         005  Mensual Semana 2  "
            ]
          },
          "execution_count": 278,
          "metadata": {},
          "output_type": "execute_result"
        }
      ],
      "source": [
        "# Funcion para transformar los numeros de los codigos, en el formato correcto\n",
        "def generar_codigo(number):\n",
        "  return \"00\"+str(number)\n",
        "\n",
        "# Lista de nombres de las columnas que deseas convertir\n",
        "columnas_a_convertir = [\"COD_DIA VISITA\", \"COD SEMANAL\", \"COD QUINCENAL\", \"COD MENSUAL\"]\n",
        "\n",
        "#funcion .applymap para recorrer varias columnas y aplicar la tranformacion\n",
        "df_calendario_Pimovil = df_calendario_Pimovil_Original.copy()\n",
        "df_calendario_Pimovil[columnas_a_convertir] = df_calendario_Pimovil[columnas_a_convertir].applymap(generar_codigo)\n",
        "\n",
        "# Verificar el tipo de dato después de la conversión\n",
        "df_calendario_Pimovil.head(5)"
      ]
    },
    {
      "cell_type": "markdown",
      "metadata": {
        "id": "glGHlVn-eALO"
      },
      "source": [
        "### Modificando las fechas\n",
        "\n",
        "Se cambia el formato de las fechas para luego ser usado"
      ]
    },
    {
      "cell_type": "code",
      "execution_count": 279,
      "metadata": {
        "colab": {
          "base_uri": "https://localhost:8080/"
        },
        "id": "I3OpZ1JKfWQo",
        "outputId": "b204fd46-e7f5-4698-8da0-f5aeb57c10e9"
      },
      "outputs": [],
      "source": [
        "# #Cambios en para Pimovil\n",
        "# df_calendario_Pimovil[\"FECHA\"] = pd.to_datetime(df_calendario_Pimovil[\"FECHA\"], format=\"%d/%m/%Y\")\n",
        "# # Se cambia el formato Datetime a Object\n",
        "# df_calendario_Pimovil[\"FECHA\"] = df_calendario_Pimovil[\"FECHA\"].dt.date\n",
        "\n",
        "# #Cambios para las Rutas\n",
        "# df_ruta_visitas_vendedor[\"Inicio_Visita\"] = pd.to_datetime(df_ruta_visitas_vendedor_Original[\"Inicio_Visita\"], format=\"%m/%d/%Y %H:%M\")\n",
        "# #Se dejan solo registros para el año 2023\n",
        "# df_ruta_visitas_vendedor = df_ruta_visitas_vendedor[df_ruta_visitas_vendedor[\"Inicio_Visita\"].dt.year == 2023]\n",
        "# # Ahora, extrae solo la parte de fecha (sin la hora) y se deja en formato Object\n",
        "# df_ruta_visitas_vendedor[\"Inicio_Visita\"] = df_ruta_visitas_vendedor[\"Inicio_Visita\"].dt.date"
      ]
    },
    {
      "cell_type": "code",
      "execution_count": 280,
      "metadata": {
        "colab": {
          "base_uri": "https://localhost:8080/"
        },
        "id": "pKhCRN6OhCA7",
        "outputId": "fcd718ee-a61c-4ac4-9646-df49106323d8"
      },
      "outputs": [],
      "source": [
        "# Se revisa que ambos tienen el mismo formato\n",
        "# print(df_ruta_visitas_vendedor.dtypes)\n",
        "# print(df_calendario_Pimovil.dtypes)"
      ]
    },
    {
      "cell_type": "code",
      "execution_count": 281,
      "metadata": {
        "colab": {
          "base_uri": "https://localhost:8080/"
        },
        "id": "RWUMvPr_C4o0",
        "outputId": "050ec748-9ec0-497f-cc22-27a58f90781c"
      },
      "outputs": [],
      "source": [
        "# df_ruta_visitas_vendedor"
      ]
    },
    {
      "cell_type": "code",
      "execution_count": 282,
      "metadata": {
        "colab": {
          "base_uri": "https://localhost:8080/"
        },
        "id": "qBorSy-oC5uk",
        "outputId": "5f9f1463-6e2c-4558-f70c-15f9de4d1675"
      },
      "outputs": [
        {
          "data": {
            "text/html": [
              "<div>\n",
              "<style scoped>\n",
              "    .dataframe tbody tr th:only-of-type {\n",
              "        vertical-align: middle;\n",
              "    }\n",
              "\n",
              "    .dataframe tbody tr th {\n",
              "        vertical-align: top;\n",
              "    }\n",
              "\n",
              "    .dataframe thead th {\n",
              "        text-align: right;\n",
              "    }\n",
              "</style>\n",
              "<table border=\"1\" class=\"dataframe\">\n",
              "  <thead>\n",
              "    <tr style=\"text-align: right;\">\n",
              "      <th></th>\n",
              "      <th>FECHA</th>\n",
              "      <th>COD_DIA VISITA</th>\n",
              "      <th>DIA VISITA</th>\n",
              "      <th>COD SEMANAL</th>\n",
              "      <th>SEMANAL</th>\n",
              "      <th>COD QUINCENAL</th>\n",
              "      <th>QUINCENAL</th>\n",
              "      <th>COD MENSUAL</th>\n",
              "      <th>MENSUAL</th>\n",
              "    </tr>\n",
              "  </thead>\n",
              "  <tbody>\n",
              "    <tr>\n",
              "      <th>0</th>\n",
              "      <td>01/01/2023</td>\n",
              "      <td>001</td>\n",
              "      <td>Domingo</td>\n",
              "      <td>001</td>\n",
              "      <td>Semanal</td>\n",
              "      <td>002</td>\n",
              "      <td>Quincena 1 y 3</td>\n",
              "      <td>004</td>\n",
              "      <td>Mensual Semana 1</td>\n",
              "    </tr>\n",
              "    <tr>\n",
              "      <th>1</th>\n",
              "      <td>02/01/2023</td>\n",
              "      <td>002</td>\n",
              "      <td>Lunes</td>\n",
              "      <td>001</td>\n",
              "      <td>Semanal</td>\n",
              "      <td>003</td>\n",
              "      <td>Quincena 2 y 4</td>\n",
              "      <td>005</td>\n",
              "      <td>Mensual Semana 2</td>\n",
              "    </tr>\n",
              "    <tr>\n",
              "      <th>2</th>\n",
              "      <td>03/01/2023</td>\n",
              "      <td>003</td>\n",
              "      <td>Martes</td>\n",
              "      <td>001</td>\n",
              "      <td>Semanal</td>\n",
              "      <td>003</td>\n",
              "      <td>Quincena 2 y 4</td>\n",
              "      <td>005</td>\n",
              "      <td>Mensual Semana 2</td>\n",
              "    </tr>\n",
              "  </tbody>\n",
              "</table>\n",
              "</div>"
            ],
            "text/plain": [
              "        FECHA COD_DIA VISITA DIA VISITA COD SEMANAL  SEMANAL COD QUINCENAL  \\\n",
              "0  01/01/2023            001    Domingo         001  Semanal           002   \n",
              "1  02/01/2023            002      Lunes         001  Semanal           003   \n",
              "2  03/01/2023            003     Martes         001  Semanal           003   \n",
              "\n",
              "       QUINCENAL  COD MENSUAL           MENSUAL  \n",
              "0  Quincena 1 y 3         004  Mensual Semana 1  \n",
              "1  Quincena 2 y 4         005  Mensual Semana 2  \n",
              "2  Quincena 2 y 4         005  Mensual Semana 2  "
            ]
          },
          "execution_count": 282,
          "metadata": {},
          "output_type": "execute_result"
        }
      ],
      "source": [
        "df_calendario_Pimovil.head(3)"
      ]
    },
    {
      "cell_type": "markdown",
      "metadata": {
        "id": "qYQmA8FMlQgx"
      },
      "source": [
        "### Agrupando las fechas por \"Cod_Cliente\" de las Rutas"
      ]
    },
    {
      "cell_type": "code",
      "execution_count": 283,
      "metadata": {
        "colab": {
          "base_uri": "https://localhost:8080/"
        },
        "id": "V8bfgWyslUGi",
        "outputId": "a967727e-ca9c-4f60-fbed-b86a6259efa3"
      },
      "outputs": [],
      "source": [
        "# # Agrupa las fechas por Cod_cliente y crea una serie de listas con las fechas de visita\n",
        "# fechas_agrupadas = df_ruta_visitas_vendedor.groupby(\"Cod_Cliente\")[\"Inicio_Visita\"].apply(list).reset_index()\n",
        "\n",
        "# # Renombra la columna resultante\n",
        "# fechas_agrupadas.rename(columns={\"Inicio_Visita\": \"Fechas_agrupadas\"}, inplace=True)\n",
        "# fechas_agrupadas"
      ]
    },
    {
      "cell_type": "code",
      "execution_count": 284,
      "metadata": {
        "colab": {
          "base_uri": "https://localhost:8080/"
        },
        "id": "VZgnPZut2F1b",
        "outputId": "a44a701d-c292-4508-8203-de9c404ff515"
      },
      "outputs": [],
      "source": [
        "# # Agrupar por \"Cod_Cliente\" y codigos dia y frecuan se aplica una función que obtenga códigos distintos\n",
        "# grupos_codigo = df_ruta_visitas_vendedor.groupby(\"Cod_Cliente\").agg({\n",
        "#     \"CRIT_CLIENTE_DIA_VISITA\": pd.Series.unique,\n",
        "#     \"CRIT_CLIENTE_RUT_FREC\": pd.Series.unique\n",
        "# }).reset_index()\n",
        "\n",
        "# # Renombrar las columnas resultantes si es necesario\n",
        "# grupos_codigo.rename(columns={\"CRIT_CLIENTE_DIA_VISITA\": \"Codigo_Dia\", \"CRIT_CLIENTE_RUT_FREC\": \"Codigo_Frecuencia\"}, inplace=True)\n",
        "\n",
        "# grupos_codigo"
      ]
    },
    {
      "cell_type": "code",
      "execution_count": 285,
      "metadata": {
        "colab": {
          "base_uri": "https://localhost:8080/"
        },
        "id": "o2FSXdrHeKGC",
        "outputId": "16b50bb1-f167-4312-d9b9-200cb970b5f5"
      },
      "outputs": [],
      "source": [
        "# ab = ['Codigo_Dia', 'Codigo_Frecuencia']\n",
        "# grupos_codigo[ab] = grupos_codigo[ab].applymap(lambda x: x[0])\n",
        "# grupos_codigo"
      ]
    },
    {
      "cell_type": "code",
      "execution_count": 286,
      "metadata": {
        "colab": {
          "base_uri": "https://localhost:8080/"
        },
        "id": "3x9uut6x04CR",
        "outputId": "bfcdc454-5810-45e2-db27-2c5998f75c6e"
      },
      "outputs": [],
      "source": [
        "# # Se combinan los 2 dataframes de los codigos y de las fechas en uno solo teniendo en cuenta el \"Cod_Cliente\"\n",
        "# df_ruta_visitas_vendedor_Agrupado = pd.merge(fechas_agrupadas, grupos_codigo, on=\"Cod_Cliente\", how=\"left\")\n",
        "# df_ruta_visitas_vendedor_Agrupado"
      ]
    },
    {
      "cell_type": "markdown",
      "metadata": {
        "id": "AzqFDsuU47zx"
      },
      "source": [
        "### Agrupando las fechas por Dia y Frecuencia de Pimovil"
      ]
    },
    {
      "cell_type": "code",
      "execution_count": 287,
      "metadata": {
        "colab": {
          "base_uri": "https://localhost:8080/",
          "height": 363
        },
        "id": "jtb8jEQK8kl6",
        "outputId": "089e129a-d369-45c2-a5b6-625b755e4adb"
      },
      "outputs": [
        {
          "data": {
            "text/html": [
              "<div>\n",
              "<style scoped>\n",
              "    .dataframe tbody tr th:only-of-type {\n",
              "        vertical-align: middle;\n",
              "    }\n",
              "\n",
              "    .dataframe tbody tr th {\n",
              "        vertical-align: top;\n",
              "    }\n",
              "\n",
              "    .dataframe thead th {\n",
              "        text-align: right;\n",
              "    }\n",
              "</style>\n",
              "<table border=\"1\" class=\"dataframe\">\n",
              "  <thead>\n",
              "    <tr style=\"text-align: right;\">\n",
              "      <th></th>\n",
              "      <th>Fechas_Asignadas</th>\n",
              "      <th>Codigo_Dia</th>\n",
              "      <th>Tipo_Codigo</th>\n",
              "      <th>Codigo_Frecuencia</th>\n",
              "    </tr>\n",
              "  </thead>\n",
              "  <tbody>\n",
              "    <tr>\n",
              "      <th>0</th>\n",
              "      <td>01/01/2023</td>\n",
              "      <td>001</td>\n",
              "      <td>COD SEMANAL</td>\n",
              "      <td>001</td>\n",
              "    </tr>\n",
              "    <tr>\n",
              "      <th>1</th>\n",
              "      <td>02/01/2023</td>\n",
              "      <td>002</td>\n",
              "      <td>COD SEMANAL</td>\n",
              "      <td>001</td>\n",
              "    </tr>\n",
              "    <tr>\n",
              "      <th>2</th>\n",
              "      <td>03/01/2023</td>\n",
              "      <td>003</td>\n",
              "      <td>COD SEMANAL</td>\n",
              "      <td>001</td>\n",
              "    </tr>\n",
              "    <tr>\n",
              "      <th>3</th>\n",
              "      <td>04/01/2023</td>\n",
              "      <td>004</td>\n",
              "      <td>COD SEMANAL</td>\n",
              "      <td>001</td>\n",
              "    </tr>\n",
              "    <tr>\n",
              "      <th>4</th>\n",
              "      <td>05/01/2023</td>\n",
              "      <td>005</td>\n",
              "      <td>COD SEMANAL</td>\n",
              "      <td>001</td>\n",
              "    </tr>\n",
              "    <tr>\n",
              "      <th>5</th>\n",
              "      <td>06/01/2023</td>\n",
              "      <td>006</td>\n",
              "      <td>COD SEMANAL</td>\n",
              "      <td>001</td>\n",
              "    </tr>\n",
              "    <tr>\n",
              "      <th>6</th>\n",
              "      <td>07/01/2023</td>\n",
              "      <td>007</td>\n",
              "      <td>COD SEMANAL</td>\n",
              "      <td>001</td>\n",
              "    </tr>\n",
              "    <tr>\n",
              "      <th>7</th>\n",
              "      <td>08/01/2023</td>\n",
              "      <td>001</td>\n",
              "      <td>COD SEMANAL</td>\n",
              "      <td>001</td>\n",
              "    </tr>\n",
              "    <tr>\n",
              "      <th>8</th>\n",
              "      <td>09/01/2023</td>\n",
              "      <td>002</td>\n",
              "      <td>COD SEMANAL</td>\n",
              "      <td>001</td>\n",
              "    </tr>\n",
              "    <tr>\n",
              "      <th>9</th>\n",
              "      <td>10/01/2023</td>\n",
              "      <td>003</td>\n",
              "      <td>COD SEMANAL</td>\n",
              "      <td>001</td>\n",
              "    </tr>\n",
              "  </tbody>\n",
              "</table>\n",
              "</div>"
            ],
            "text/plain": [
              "  Fechas_Asignadas Codigo_Dia  Tipo_Codigo Codigo_Frecuencia\n",
              "0       01/01/2023        001  COD SEMANAL               001\n",
              "1       02/01/2023        002  COD SEMANAL               001\n",
              "2       03/01/2023        003  COD SEMANAL               001\n",
              "3       04/01/2023        004  COD SEMANAL               001\n",
              "4       05/01/2023        005  COD SEMANAL               001\n",
              "5       06/01/2023        006  COD SEMANAL               001\n",
              "6       07/01/2023        007  COD SEMANAL               001\n",
              "7       08/01/2023        001  COD SEMANAL               001\n",
              "8       09/01/2023        002  COD SEMANAL               001\n",
              "9       10/01/2023        003  COD SEMANAL               001"
            ]
          },
          "execution_count": 287,
          "metadata": {},
          "output_type": "execute_result"
        }
      ],
      "source": [
        "# Usar el método .melt() para \"desapilar\" las columnas de códigos\n",
        "df_calendario_Pimovil_UnaTabla = pd.melt(df_calendario_Pimovil, id_vars=[\"FECHA\", \"COD_DIA VISITA\"], value_vars=[\"COD SEMANAL\",\t\"COD QUINCENAL\",\"COD MENSUAL\"], var_name=\"Tipo_Codigo\", value_name=\"Codigo_Frecuencia\")\n",
        "\n",
        "# Cambiar el nombre de la columna utilizando el método .rename()\n",
        "df_calendario_Pimovil_UnaTabla.rename(columns={'COD_DIA VISITA': 'Codigo_Dia', 'FECHA': 'Fechas_Asignadas'}, inplace=True)\n",
        "\n",
        "df_calendario_Pimovil_UnaTabla.head(10)"
      ]
    },
    {
      "cell_type": "code",
      "execution_count": 288,
      "metadata": {
        "colab": {
          "base_uri": "https://localhost:8080/",
          "height": 206
        },
        "id": "WngNQ0_t-ghn",
        "outputId": "4cd7e106-3f5d-471a-971c-868a07903c56"
      },
      "outputs": [
        {
          "data": {
            "text/html": [
              "<div>\n",
              "<style scoped>\n",
              "    .dataframe tbody tr th:only-of-type {\n",
              "        vertical-align: middle;\n",
              "    }\n",
              "\n",
              "    .dataframe tbody tr th {\n",
              "        vertical-align: top;\n",
              "    }\n",
              "\n",
              "    .dataframe thead th {\n",
              "        text-align: right;\n",
              "    }\n",
              "</style>\n",
              "<table border=\"1\" class=\"dataframe\">\n",
              "  <thead>\n",
              "    <tr style=\"text-align: right;\">\n",
              "      <th></th>\n",
              "      <th>Codigo_Dia</th>\n",
              "      <th>Codigo_Frecuencia</th>\n",
              "      <th>Fechas_Asignadas</th>\n",
              "    </tr>\n",
              "  </thead>\n",
              "  <tbody>\n",
              "    <tr>\n",
              "      <th>0</th>\n",
              "      <td>001</td>\n",
              "      <td>001</td>\n",
              "      <td>[01/01/2023, 08/01/2023, 15/01/2023, 22/01/202...</td>\n",
              "    </tr>\n",
              "    <tr>\n",
              "      <th>1</th>\n",
              "      <td>001</td>\n",
              "      <td>002</td>\n",
              "      <td>[01/01/2023, 15/01/2023, 29/01/2023, 12/02/202...</td>\n",
              "    </tr>\n",
              "    <tr>\n",
              "      <th>2</th>\n",
              "      <td>001</td>\n",
              "      <td>003</td>\n",
              "      <td>[08/01/2023, 22/01/2023, 05/02/2023, 19/02/202...</td>\n",
              "    </tr>\n",
              "    <tr>\n",
              "      <th>3</th>\n",
              "      <td>001</td>\n",
              "      <td>004</td>\n",
              "      <td>[01/01/2023, 29/01/2023, 26/02/2023, 26/03/202...</td>\n",
              "    </tr>\n",
              "    <tr>\n",
              "      <th>4</th>\n",
              "      <td>001</td>\n",
              "      <td>005</td>\n",
              "      <td>[08/01/2023, 05/02/2023, 05/03/2023, 02/04/202...</td>\n",
              "    </tr>\n",
              "  </tbody>\n",
              "</table>\n",
              "</div>"
            ],
            "text/plain": [
              "  Codigo_Dia Codigo_Frecuencia  \\\n",
              "0        001               001   \n",
              "1        001               002   \n",
              "2        001               003   \n",
              "3        001               004   \n",
              "4        001               005   \n",
              "\n",
              "                                    Fechas_Asignadas  \n",
              "0  [01/01/2023, 08/01/2023, 15/01/2023, 22/01/202...  \n",
              "1  [01/01/2023, 15/01/2023, 29/01/2023, 12/02/202...  \n",
              "2  [08/01/2023, 22/01/2023, 05/02/2023, 19/02/202...  \n",
              "3  [01/01/2023, 29/01/2023, 26/02/2023, 26/03/202...  \n",
              "4  [08/01/2023, 05/02/2023, 05/03/2023, 02/04/202...  "
            ]
          },
          "execution_count": 288,
          "metadata": {},
          "output_type": "execute_result"
        }
      ],
      "source": [
        "# Agrupa por las columnas \"Columna1\" y \"Columna2\" y aplica la función list() para obtener las fechas en una lista\n",
        "df_calendario_Pimovil_Agrupado = df_calendario_Pimovil_UnaTabla.groupby([\"Codigo_Dia\", \"Codigo_Frecuencia\"])[\"Fechas_Asignadas\"].apply(list).reset_index()\n",
        "\n",
        "df_calendario_Pimovil_Agrupado.head(5)\n"
      ]
    },
    {
      "cell_type": "code",
      "execution_count": 289,
      "metadata": {
        "colab": {
          "base_uri": "https://localhost:8080/",
          "height": 206
        },
        "id": "Y3fsBfUJLlC1",
        "outputId": "8effe74c-9300-4c82-8119-6a7ab2ace582"
      },
      "outputs": [],
      "source": [
        "# df_ruta_visitas_vendedor_Agrupado.head(5)"
      ]
    },
    {
      "cell_type": "markdown",
      "metadata": {
        "id": "QSoLuX1FivXj"
      },
      "source": [
        "### Cross Join"
      ]
    },
    {
      "cell_type": "code",
      "execution_count": 290,
      "metadata": {
        "id": "SUp0-cIthY1T"
      },
      "outputs": [],
      "source": [
        "# Cross Join\n",
        "# Realiza la operación de cruce (merge) en función de las columnas \"Codigo_Dia\", \"Codigo_Frecuencia\"\n",
        "# resultado = pd.merge(df_ruta_visitas_vendedor_Agrupado, df_calendario_Pimovil_Agrupado, on=[\"Codigo_Dia\", \"Codigo_Frecuencia\"], how=\"inner\")\n",
        "\n",
        "# \"how\" especifica el tipo de cruce, puede ser \"inner\", \"left\", \"right\" o \"outer\", dependiendo de tu necesidad"
      ]
    },
    {
      "cell_type": "code",
      "execution_count": 291,
      "metadata": {
        "colab": {
          "base_uri": "https://localhost:8080/"
        },
        "id": "OUhI2h2AjQ1h",
        "outputId": "1b1fbb55-8efc-45af-b554-8bf27b0e4d32"
      },
      "outputs": [],
      "source": [
        "# resultado"
      ]
    },
    {
      "cell_type": "code",
      "execution_count": 292,
      "metadata": {
        "colab": {
          "base_uri": "https://localhost:8080/"
        },
        "id": "iLqoOBHihRZ-",
        "outputId": "335f2f4a-24f8-4471-a736-195b4c34fefa"
      },
      "outputs": [],
      "source": [
        "# df = resultado[resultado['Codigo_Dia'] == '001']\n",
        "# df"
      ]
    }
  ],
  "metadata": {
    "colab": {
      "provenance": []
    },
    "kernelspec": {
      "display_name": "Python 3",
      "name": "python3"
    },
    "language_info": {
      "codemirror_mode": {
        "name": "ipython",
        "version": 3
      },
      "file_extension": ".py",
      "mimetype": "text/x-python",
      "name": "python",
      "nbconvert_exporter": "python",
      "pygments_lexer": "ipython3",
      "version": "3.8.10"
    }
  },
  "nbformat": 4,
  "nbformat_minor": 0
}
